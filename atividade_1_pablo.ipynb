{
  "nbformat": 4,
  "nbformat_minor": 0,
  "metadata": {
    "colab": {
      "provenance": [],
      "include_colab_link": true
    },
    "kernelspec": {
      "name": "python3",
      "display_name": "Python 3"
    },
    "language_info": {
      "name": "python"
    }
  },
  "cells": [
    {
      "cell_type": "markdown",
      "metadata": {
        "id": "view-in-github",
        "colab_type": "text"
      },
      "source": [
        "<a href=\"https://colab.research.google.com/github/KevinL284/BaseDeHitsDF/blob/main/atividade_1_pablo.ipynb\" target=\"_parent\"><img src=\"https://colab.research.google.com/assets/colab-badge.svg\" alt=\"Open In Colab\"/></a>"
      ]
    },
    {
      "cell_type": "code",
      "source": [
        "import re"
      ],
      "metadata": {
        "id": "Xc9RnclWPSoR"
      },
      "execution_count": null,
      "outputs": []
    },
    {
      "cell_type": "markdown",
      "source": [
        "# Questão 1:\n",
        "Expressões Regulares -\n",
        "Reconhecimento de Identificadores\n",
        "Escreva uma expressão regular que reconheça identificadores válidos em uma\n",
        "linguagem fictícia, considerando as seguintes regras:\n",
        "###### ● Um identificador deve começar com uma letra (maiúscula ou minúscula).\n",
        "###### ● Pode conter letras, dígitos ou sublinhado (_).\n",
        "###### ● Deve ter no mínimo 2 caracteres e no máximo 15 caracteres.\n",
        "Explique o que cada parte da expressão regular faz.\n"
      ],
      "metadata": {
        "id": "vdV_o6QrS_40"
      }
    },
    {
      "cell_type": "code",
      "execution_count": null,
      "metadata": {
        "id": "Qa5vsI6dNuEH",
        "colab": {
          "base_uri": "https://localhost:8080/"
        },
        "outputId": "ce14ac55-a456-467d-fd06-a0249853c3fc"
      },
      "outputs": [
        {
          "output_type": "stream",
          "name": "stdout",
          "text": [
            "['variavel1', 'a123', 'outro_valido']\n"
          ]
        }
      ],
      "source": [
        "# Atividade 1\n",
        "regex = re.compile(r'^[a-zA-Z][a-zA-Z0-9_]{1,14}$')\n",
        "\n",
        "identificadores = [\"variavel1\", \"_invalido\", \"a123\", \"muitoLongoIdentificadorQueNaoDeveSerValido\", \"x\", \"outro_valido\"]\n",
        "\n",
        "validos = [ident for ident in identificadores if re.match(regex, ident)]\n",
        "\n",
        "print(validos)"
      ]
    },
    {
      "cell_type": "markdown",
      "source": [
        "# Questão 2\n",
        "  Expressões Regulares - Números\n",
        "Inteiros e Reais\n",
        "Crie expressões regulares para identificar:\n",
        "a) Números inteiros\n",
        "(positivos ou negativos).\n",
        "b) Números reais (com e sem parte\n",
        "fracionária).\n"
      ],
      "metadata": {
        "id": "-LNjILcASXIO"
      }
    },
    {
      "cell_type": "code",
      "source": [
        "\n",
        "# a) Números inteiros (positivos ou negativos)\n",
        "regex_inteiro = r\"^-?\\d+$\"\n",
        "\n",
        "# Exemplos de números inteiros\n",
        "inteiros = [\"123\", \"-456\", \"0\", \"9876543210\"]\n",
        "\n",
        "# Testando a expressão regular para números inteiros\n",
        "for num in inteiros:\n",
        "  if re.match(regex_inteiro, num):\n",
        "    print(f\"'{num}' é um número inteiro válido.\")\n",
        "  else:\n",
        "    print(f\"'{num}' não é um número inteiro válido.\")\n",
        "\n",
        "\n",
        "\n",
        "# b) Números reais (com e sem parte fracionária)\n",
        "regex_real = r\"^-?\\d+(\\.\\d+)?$\"\n",
        "\n",
        "# Exemplos de números reais\n",
        "reais = [\"123.45\", \"-67.89\", \"0.0\", \"100\", \"3.14159\"]\n",
        "\n",
        "# Testando a expressão regular para números reais\n",
        "for num in reais:\n",
        "  if re.match(regex_real, num):\n",
        "    print(f\"'{num}' é um número real válido.\")\n",
        "  else:\n",
        "    print(f\"'{num}' não é um número real válido.\")\n"
      ],
      "metadata": {
        "colab": {
          "base_uri": "https://localhost:8080/"
        },
        "id": "WOiwC4uJSmYM",
        "outputId": "f0f57258-6b8f-43c6-c09f-21b95865d097"
      },
      "execution_count": null,
      "outputs": [
        {
          "output_type": "stream",
          "name": "stdout",
          "text": [
            "'123' é um número inteiro válido.\n",
            "'-456' é um número inteiro válido.\n",
            "'0' é um número inteiro válido.\n",
            "'9876543210' é um número inteiro válido.\n",
            "'123.45' é um número real válido.\n",
            "'-67.89' é um número real válido.\n",
            "'0.0' é um número real válido.\n",
            "'100' é um número real válido.\n",
            "'3.14159' é um número real válido.\n"
          ]
        }
      ]
    },
    {
      "cell_type": "markdown",
      "source": [
        "# Questão 3:\n",
        "\n",
        "Expressões Regulares - Strings\n",
        "Literais\n",
        "Crie uma expressão regular que reconheça strings literais em uma linguagem\n",
        "fictícia. Considere que as strings devem:\n",
        "###### ● Estar entre aspas duplas (\" \").\n",
        "###### ● Podem conter qualquer caractere, exceto uma quebra de linha (\\n).\n",
        "###### ● Devem permitir o uso da barra invertida (\\) para escapar aspas."
      ],
      "metadata": {
        "id": "NxSLD1rDTl1x"
      }
    },
    {
      "cell_type": "code",
      "source": [
        "\n",
        "regex_string_literal = r'\"(?:\\\\.|[^\"\\n])*\"'\n",
        "\n",
        "# Exemplos de strings literais\n",
        "strings_literais = ['\"Olá, mundo!\"', '\"String com \\\\\"aspas\\\\\" escapadas\"', '\"String com caracteres especiais: !@#$%^&*()_+{}|:\"<>?\"']\n",
        "\n",
        "# Testando a expressão regular para strings literais\n",
        "for string in strings_literais:\n",
        "  if re.match(regex_string_literal, string):\n",
        "    print(f\"'{string}' é uma string literal válida.\")\n",
        "  else:\n",
        "    print(f\"'{string}' não é uma string literal válida.\")\n"
      ],
      "metadata": {
        "colab": {
          "base_uri": "https://localhost:8080/"
        },
        "id": "5xhStG4qT08J",
        "outputId": "bbc95dca-65c2-4a31-9522-1d1e43a542c6"
      },
      "execution_count": null,
      "outputs": [
        {
          "output_type": "stream",
          "name": "stdout",
          "text": [
            "'\"Olá, mundo!\"' é uma string literal válida.\n",
            "'\"String com \\\"aspas\\\" escapadas\"' é uma string literal válida.\n",
            "'\"String com caracteres especiais: !@#$%^&*()_+{}|:\"<>?\"' é uma string literal válida.\n"
          ]
        }
      ]
    },
    {
      "cell_type": "markdown",
      "source": [
        "# Questão 4:\n",
        "\n",
        "Tokens e Categorias - Analisador\n",
        "Léxico Simples\n",
        "###### ● Considere o seguinte trecho de código de uma linguagem fictícia:\n",
        "---\n",
        "int valor = 10;\n",
        "se (valor > 5) {\n",
        " escreva(\"Valor maior que 5\");\n",
        "}\n",
        "---\n",
        "Divida o trecho de código acima em tokens e categorize-os de acordo com as\n",
        "seguintes categorias: palavra-chave, identificador, operador, símbolo, constante\n",
        "numérica, string literal."
      ],
      "metadata": {
        "id": "AdPh3JPgUp9_"
      }
    },
    {
      "cell_type": "code",
      "source": [
        "from collections import defaultdict\n",
        "\n",
        "# Trecho de código para análise\n",
        "codigo = \"\"\"\n",
        "int valor = 10;\n",
        "se (valor > 5) {\n",
        " escreva(\"Valor maior que 5\");\n",
        "}\n",
        "\"\"\"\n",
        "\n",
        "# Categorias de tokens\n",
        "categorias = {\n",
        "    'palavra-chave': ['int', 'se'],\n",
        "    'operador': ['=', '>', '+', '-', '*', '/', '==', '!=', '<', '<=', '>='],\n",
        "    'símbolo': [';', '(', ')', '{', '}', ','],\n",
        "}\n",
        "\n",
        "# Função para categorizar tokens\n",
        "def categorizar_tokens(codigo):\n",
        "    tokens = re.findall(r'\\w+|\"[^\"]*\"|\\S', codigo)\n",
        "    contagem = defaultdict(list)\n",
        "\n",
        "    for token in tokens:\n",
        "        # Verificar categoria\n",
        "        if token in categorias['palavra-chave']:\n",
        "            contagem['palavra-chave'].append(token)\n",
        "        elif token in categorias['operador']:\n",
        "            contagem['operador'].append(token)\n",
        "        elif token in categorias['símbolo']:\n",
        "            contagem['símbolo'].append(token)\n",
        "        elif re.match(r'^\\d+$', token):\n",
        "            contagem['constante numérica'].append(token)\n",
        "        elif re.match(r'^\".*\"$', token):\n",
        "            contagem['string literal'].append(token)\n",
        "        else:\n",
        "            contagem['identificador'].append(token)\n",
        "\n",
        "    return contagem\n",
        "\n",
        "# Executando a função\n",
        "resultado = categorizar_tokens(codigo)\n",
        "\n",
        "# Exibindo o resultado\n",
        "for categoria, tokens in resultado.items():\n",
        "    print(f\"{categoria.capitalize()}: {', '.join(tokens)}\")\n"
      ],
      "metadata": {
        "colab": {
          "base_uri": "https://localhost:8080/"
        },
        "id": "--uhlPzWU4QA",
        "outputId": "30d9a098-ff5b-43af-c0b9-1b8fbc6736e9"
      },
      "execution_count": 9,
      "outputs": [
        {
          "output_type": "stream",
          "name": "stdout",
          "text": [
            "Palavra-chave: int, se\n",
            "Identificador: valor, valor, escreva\n",
            "Operador: =, >\n",
            "Constante numérica: 10, 5\n",
            "Símbolo: ;, (, ), {, (, ), ;, }\n",
            "String literal: \"Valor maior que 5\"\n"
          ]
        }
      ]
    },
    {
      "cell_type": "markdown",
      "source": [
        "# Questão 5:\n",
        "Geração de Tokens via Expressão Regular\n",
        "\n",
        "Para cada uma das seguintes categorias de tokens, escreva uma expressão regular capaz de reconhecê-las em uma linguagem fictícia:\n",
        "##### a) Palavra-chave (exemplo: int, se, escreva).\n",
        "##### b) Operador de Atribuição (exemplo: =).\n",
        "##### c) Operadores Relacionais (exemplo: >, <, ==).\n",
        "##### d) Constante Numérica Inteira. e) String Literal.\n"
      ],
      "metadata": {
        "id": "wihNM8ozWbWC"
      }
    },
    {
      "cell_type": "code",
      "source": [
        "# Definição das expressões regulares para cada tipo de token\n",
        "tokens = {\n",
        "    \"PALAVRA_CHAVE\": r\"\\b(int|se|escreva)\\b\",\n",
        "    \"ATRIBUICAO\": r\"=\",\n",
        "    \"OPERADOR_RELACIONAL\": r\">=|<=|==|>|<\",\n",
        "    \"NUMERO_INTEIRO\": r\"\\b\\d+\\b\",\n",
        "    \"STRING_LITERAL\": r'\"([^\"\\\\]*(\\\\.[^\"\\\\]*)*)\"'\n",
        "}\n",
        "\n",
        "# Exemplo de texto para testar\n",
        "texto = '''\n",
        "int x = 10;\n",
        "se (x > 5) {\n",
        "    escreva \"Número é maior que 5\";\n",
        "}\n",
        "'''\n",
        "\n",
        "# Função para gerar tokens\n",
        "def gerar_tokens(texto):\n",
        "    for nome_token, padrao in tokens.items():\n",
        "        for match in re.finditer(padrao, texto):\n",
        "            yield (nome_token, match.group(), match.start(), match.end())\n",
        "\n",
        "# Executar a função e imprimir os tokens encontrados\n",
        "for token in gerar_tokens(texto):\n",
        "    print(token)\n"
      ],
      "metadata": {
        "colab": {
          "base_uri": "https://localhost:8080/"
        },
        "id": "8G44CvflWkU3",
        "outputId": "de92b3dc-f650-4046-a352-914037ca6e62"
      },
      "execution_count": null,
      "outputs": [
        {
          "output_type": "stream",
          "name": "stdout",
          "text": [
            "('PALAVRA_CHAVE', 'int', 1, 4)\n",
            "('PALAVRA_CHAVE', 'se', 13, 15)\n",
            "('PALAVRA_CHAVE', 'escreva', 30, 37)\n",
            "('ATRIBUICAO', '=', 7, 8)\n",
            "('OPERADOR_RELACIONAL', '>', 19, 20)\n",
            "('NUMERO_INTEIRO', '10', 9, 11)\n",
            "('NUMERO_INTEIRO', '5', 21, 22)\n",
            "('NUMERO_INTEIRO', '5', 58, 59)\n",
            "('STRING_LITERAL', '\"Número é maior que 5\"', 38, 60)\n"
          ]
        }
      ]
    },
    {
      "cell_type": "markdown",
      "source": [
        "# Expressões Regulares (Regex) Explicadas\n",
        "\n",
        "## 1. Identificador Válido\n",
        "**Regex**: `r'^[a-zA-Z][a-zA-Z0-9_]{1,14}$'`  \n",
        "- `^`: Início da string.\n",
        "- `[a-zA-Z]`: Um caractere que deve ser uma letra (maiúscula ou minúscula).\n",
        "- `[a-zA-Z0-9_]`: Um caractere que pode ser uma letra, um número ou um underscore.\n",
        "- `{1,14}`: O grupo anterior pode aparecer de 1 a 14 vezes.\n",
        "- `$`: Fim da string.\n",
        "\n",
        "## 2. Número Inteiro\n",
        "**Regex**: `regex_inteiro = r\"^-?\\d+$\"`  \n",
        "- `^`: Início da string.\n",
        "- `-?`: O sinal de menos é opcional, permitindo números negativos.\n",
        "- `\\d+`: Um ou mais dígitos (0-9).\n",
        "- `$`: Fim da string.\n",
        "\n",
        "## 3. Número Real\n",
        "**Regex**: `regex_real = r\"^-?\\d+(\\.\\d+)?$\"`  \n",
        "- `^`: Início da string.\n",
        "- `-?`: O sinal de menos é opcional.\n",
        "- `\\d+`: Um ou mais dígitos antes do ponto decimal.\n",
        "- `(\\.\\d+)?`: Um ponto seguido de um ou mais dígitos é opcional.\n",
        "- `$`: Fim da string.\n",
        "\n",
        "## 4. Literal de String\n",
        "**Regex**: `regex_string_literal = r'\"(?:\\\\.|[^\"\\n])*\"'`  \n",
        "- `\"`: Início e fim da string delimitada por aspas.\n",
        "- `(?: ... )`: Grupo que não captura.\n",
        "- `\\\\.`: Qualquer caractere escapado (ex: `\\\"`).\n",
        "- `[^\"\\n]`: Qualquer caractere que não seja aspas ou nova linha.\n",
        "- `*`: O grupo pode aparecer zero ou mais vezes.\n",
        "\n",
        "## 5. Palavras, Strings e Símbolos\n",
        "**Regex**: `r'\\w+|\"[^\"]*\"|\\S'`  \n",
        "- `\\w+`: Uma ou mais letras, números ou underscores.\n",
        "- `|`: Ou.\n",
        "- `\"[^\"]*\"`: Uma string entre aspas sem aspas internas.\n",
        "- `\\S`: Um único caractere que não é espaço em branco.\n",
        "\n",
        "## 6. Palavras-Chave\n",
        "**Regex**: `r\"\\b(int|se|escreva)\\b\"`  \n",
        "- `\\b`: Limite de palavra (início ou fim).\n",
        "- `( ... )`: Grupo que captura.\n",
        "- `int|se|escreva`: Alternativa para as palavras exatas.\n",
        "\n",
        "## 7. Sinal de Igual\n",
        "**Regex**: `r\"=\"`  \n",
        "- Captura simplesmente o caractere `=`.\n",
        "\n",
        "## 8. Operadores de Comparação\n",
        "**Regex**: `r\">=|<=|==|>|<\"`  \n",
        "- `|`: Alternativa para diferentes operadores.\n",
        "- `>=`, `<=`, `==`, `>`, `<`: Captura os operadores de comparação.\n",
        "\n",
        "## 9. Números Inteiros Isolados\n",
        "**Regex**: `r\"\\b\\d+\\b\"`  \n",
        "- `\\b`: Limite de palavra.\n",
        "- `\\d+`: Um ou mais dígitos.\n",
        "- `\\b`: Limite de palavra.\n",
        "\n",
        "## 10. Literal de String Detalhada\n",
        "**Regex**: `r'\"([^\"\\\\]*(\\\\.[^\"\\\\]*)*)\"'`  \n",
        "- `\"`: Início e fim da string.\n",
        "- `(...)`: Grupo que captura.\n",
        "- `[^\"\\\\]*`: Qualquer caractere que não seja aspas ou barra invertida.\n",
        "- `\\\\.`: Captura caracteres escapados.\n",
        "- `*`: O grupo pode aparecer zero ou mais vezes.\n"
      ],
      "metadata": {
        "id": "FbMd8V13Zdj5"
      }
    }
  ]
}